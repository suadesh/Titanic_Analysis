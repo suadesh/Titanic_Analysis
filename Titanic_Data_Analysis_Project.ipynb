{
 "cells": [
  {
   "cell_type": "markdown",
   "metadata": {},
   "source": [
    "## Data Analysis Project Titanic "
   ]
  },
  {
   "cell_type": "markdown",
   "metadata": {},
   "source": [
    "In this study, I will focus my attention on the surviving rate of passengers on board the Titanic. \n",
    "\n",
    "I would like to understand if there was a significant difference in survived people between the one that were traveling alone on the ship and the one that were on board with other family members. To do so I will create a new variable called Alone that will indicate for 0 that the passenger was traveling alone and 1 with one or more relatives. I will make use of the variable SibSb and Parch to know if the passengers were traveling alone or not. Although we do not have information about friends or unidentified couples on board. At the begin I will focus my attention to the general case and then later I will continue this investigation for women and men separately. \n",
    "\n",
    "Secondly, I would like to investigate the difference in the ticket fare among the passengers that survived and the passengers that did not. I would like to consider this information as the status of the passenger in state of using class that were only 3. I could be much more helpful have the information about the salary of the passenger but we do not have it.  \n",
    "\n",
    "Before looking for an answer to my question I will import the data using Panda functions for CSV and I will check the data imported looking for anomalies that could compromise my research. I will use the function describe looking for strange values and the function isnull to understand how many values are missing in the table."
   ]
  },
  {
   "cell_type": "code",
   "execution_count": 1,
   "metadata": {
    "collapsed": true
   },
   "outputs": [],
   "source": [
    "import pandas as pd\n",
    "import numpy as np\n",
    "import seaborn as sns\n",
    "import matplotlib.pyplot as plt \n",
    "import scipy.stats\n",
    "%matplotlib inline"
   ]
  },
  {
   "cell_type": "code",
   "execution_count": 2,
   "metadata": {
    "collapsed": true
   },
   "outputs": [],
   "source": [
    "titanic = pd.read_csv('titanic-data.csv')"
   ]
  },
  {
   "cell_type": "code",
   "execution_count": 3,
   "metadata": {},
   "outputs": [
    {
     "data": {
      "text/html": [
       "<div>\n",
       "<table border=\"1\" class=\"dataframe\">\n",
       "  <thead>\n",
       "    <tr style=\"text-align: right;\">\n",
       "      <th></th>\n",
       "      <th>PassengerId</th>\n",
       "      <th>Survived</th>\n",
       "      <th>Pclass</th>\n",
       "      <th>Name</th>\n",
       "      <th>Sex</th>\n",
       "      <th>Age</th>\n",
       "      <th>SibSp</th>\n",
       "      <th>Parch</th>\n",
       "      <th>Ticket</th>\n",
       "      <th>Fare</th>\n",
       "      <th>Cabin</th>\n",
       "      <th>Embarked</th>\n",
       "    </tr>\n",
       "  </thead>\n",
       "  <tbody>\n",
       "    <tr>\n",
       "      <th>0</th>\n",
       "      <td>1</td>\n",
       "      <td>0</td>\n",
       "      <td>3</td>\n",
       "      <td>Braund, Mr. Owen Harris</td>\n",
       "      <td>male</td>\n",
       "      <td>22.0</td>\n",
       "      <td>1</td>\n",
       "      <td>0</td>\n",
       "      <td>A/5 21171</td>\n",
       "      <td>7.2500</td>\n",
       "      <td>NaN</td>\n",
       "      <td>S</td>\n",
       "    </tr>\n",
       "    <tr>\n",
       "      <th>1</th>\n",
       "      <td>2</td>\n",
       "      <td>1</td>\n",
       "      <td>1</td>\n",
       "      <td>Cumings, Mrs. John Bradley (Florence Briggs Th...</td>\n",
       "      <td>female</td>\n",
       "      <td>38.0</td>\n",
       "      <td>1</td>\n",
       "      <td>0</td>\n",
       "      <td>PC 17599</td>\n",
       "      <td>71.2833</td>\n",
       "      <td>C85</td>\n",
       "      <td>C</td>\n",
       "    </tr>\n",
       "    <tr>\n",
       "      <th>2</th>\n",
       "      <td>3</td>\n",
       "      <td>1</td>\n",
       "      <td>3</td>\n",
       "      <td>Heikkinen, Miss. Laina</td>\n",
       "      <td>female</td>\n",
       "      <td>26.0</td>\n",
       "      <td>0</td>\n",
       "      <td>0</td>\n",
       "      <td>STON/O2. 3101282</td>\n",
       "      <td>7.9250</td>\n",
       "      <td>NaN</td>\n",
       "      <td>S</td>\n",
       "    </tr>\n",
       "    <tr>\n",
       "      <th>3</th>\n",
       "      <td>4</td>\n",
       "      <td>1</td>\n",
       "      <td>1</td>\n",
       "      <td>Futrelle, Mrs. Jacques Heath (Lily May Peel)</td>\n",
       "      <td>female</td>\n",
       "      <td>35.0</td>\n",
       "      <td>1</td>\n",
       "      <td>0</td>\n",
       "      <td>113803</td>\n",
       "      <td>53.1000</td>\n",
       "      <td>C123</td>\n",
       "      <td>S</td>\n",
       "    </tr>\n",
       "    <tr>\n",
       "      <th>4</th>\n",
       "      <td>5</td>\n",
       "      <td>0</td>\n",
       "      <td>3</td>\n",
       "      <td>Allen, Mr. William Henry</td>\n",
       "      <td>male</td>\n",
       "      <td>35.0</td>\n",
       "      <td>0</td>\n",
       "      <td>0</td>\n",
       "      <td>373450</td>\n",
       "      <td>8.0500</td>\n",
       "      <td>NaN</td>\n",
       "      <td>S</td>\n",
       "    </tr>\n",
       "  </tbody>\n",
       "</table>\n",
       "</div>"
      ],
      "text/plain": [
       "   PassengerId  Survived  Pclass  \\\n",
       "0            1         0       3   \n",
       "1            2         1       1   \n",
       "2            3         1       3   \n",
       "3            4         1       1   \n",
       "4            5         0       3   \n",
       "\n",
       "                                                Name     Sex   Age  SibSp  \\\n",
       "0                            Braund, Mr. Owen Harris    male  22.0      1   \n",
       "1  Cumings, Mrs. John Bradley (Florence Briggs Th...  female  38.0      1   \n",
       "2                             Heikkinen, Miss. Laina  female  26.0      0   \n",
       "3       Futrelle, Mrs. Jacques Heath (Lily May Peel)  female  35.0      1   \n",
       "4                           Allen, Mr. William Henry    male  35.0      0   \n",
       "\n",
       "   Parch            Ticket     Fare Cabin Embarked  \n",
       "0      0         A/5 21171   7.2500   NaN        S  \n",
       "1      0          PC 17599  71.2833   C85        C  \n",
       "2      0  STON/O2. 3101282   7.9250   NaN        S  \n",
       "3      0            113803  53.1000  C123        S  \n",
       "4      0            373450   8.0500   NaN        S  "
      ]
     },
     "execution_count": 3,
     "metadata": {},
     "output_type": "execute_result"
    }
   ],
   "source": [
    "titanic.head()"
   ]
  },
  {
   "cell_type": "code",
   "execution_count": 4,
   "metadata": {},
   "outputs": [
    {
     "data": {
      "text/html": [
       "<div>\n",
       "<table border=\"1\" class=\"dataframe\">\n",
       "  <thead>\n",
       "    <tr style=\"text-align: right;\">\n",
       "      <th></th>\n",
       "      <th>PassengerId</th>\n",
       "      <th>Survived</th>\n",
       "      <th>Pclass</th>\n",
       "      <th>Age</th>\n",
       "      <th>SibSp</th>\n",
       "      <th>Parch</th>\n",
       "      <th>Fare</th>\n",
       "    </tr>\n",
       "  </thead>\n",
       "  <tbody>\n",
       "    <tr>\n",
       "      <th>count</th>\n",
       "      <td>891.000000</td>\n",
       "      <td>891.000000</td>\n",
       "      <td>891.000000</td>\n",
       "      <td>714.000000</td>\n",
       "      <td>891.000000</td>\n",
       "      <td>891.000000</td>\n",
       "      <td>891.000000</td>\n",
       "    </tr>\n",
       "    <tr>\n",
       "      <th>mean</th>\n",
       "      <td>446.000000</td>\n",
       "      <td>0.383838</td>\n",
       "      <td>2.308642</td>\n",
       "      <td>29.699118</td>\n",
       "      <td>0.523008</td>\n",
       "      <td>0.381594</td>\n",
       "      <td>32.204208</td>\n",
       "    </tr>\n",
       "    <tr>\n",
       "      <th>std</th>\n",
       "      <td>257.353842</td>\n",
       "      <td>0.486592</td>\n",
       "      <td>0.836071</td>\n",
       "      <td>14.526497</td>\n",
       "      <td>1.102743</td>\n",
       "      <td>0.806057</td>\n",
       "      <td>49.693429</td>\n",
       "    </tr>\n",
       "    <tr>\n",
       "      <th>min</th>\n",
       "      <td>1.000000</td>\n",
       "      <td>0.000000</td>\n",
       "      <td>1.000000</td>\n",
       "      <td>0.420000</td>\n",
       "      <td>0.000000</td>\n",
       "      <td>0.000000</td>\n",
       "      <td>0.000000</td>\n",
       "    </tr>\n",
       "    <tr>\n",
       "      <th>25%</th>\n",
       "      <td>223.500000</td>\n",
       "      <td>0.000000</td>\n",
       "      <td>2.000000</td>\n",
       "      <td>20.125000</td>\n",
       "      <td>0.000000</td>\n",
       "      <td>0.000000</td>\n",
       "      <td>7.910400</td>\n",
       "    </tr>\n",
       "    <tr>\n",
       "      <th>50%</th>\n",
       "      <td>446.000000</td>\n",
       "      <td>0.000000</td>\n",
       "      <td>3.000000</td>\n",
       "      <td>28.000000</td>\n",
       "      <td>0.000000</td>\n",
       "      <td>0.000000</td>\n",
       "      <td>14.454200</td>\n",
       "    </tr>\n",
       "    <tr>\n",
       "      <th>75%</th>\n",
       "      <td>668.500000</td>\n",
       "      <td>1.000000</td>\n",
       "      <td>3.000000</td>\n",
       "      <td>38.000000</td>\n",
       "      <td>1.000000</td>\n",
       "      <td>0.000000</td>\n",
       "      <td>31.000000</td>\n",
       "    </tr>\n",
       "    <tr>\n",
       "      <th>max</th>\n",
       "      <td>891.000000</td>\n",
       "      <td>1.000000</td>\n",
       "      <td>3.000000</td>\n",
       "      <td>80.000000</td>\n",
       "      <td>8.000000</td>\n",
       "      <td>6.000000</td>\n",
       "      <td>512.329200</td>\n",
       "    </tr>\n",
       "  </tbody>\n",
       "</table>\n",
       "</div>"
      ],
      "text/plain": [
       "       PassengerId    Survived      Pclass         Age       SibSp  \\\n",
       "count   891.000000  891.000000  891.000000  714.000000  891.000000   \n",
       "mean    446.000000    0.383838    2.308642   29.699118    0.523008   \n",
       "std     257.353842    0.486592    0.836071   14.526497    1.102743   \n",
       "min       1.000000    0.000000    1.000000    0.420000    0.000000   \n",
       "25%     223.500000    0.000000    2.000000   20.125000    0.000000   \n",
       "50%     446.000000    0.000000    3.000000   28.000000    0.000000   \n",
       "75%     668.500000    1.000000    3.000000   38.000000    1.000000   \n",
       "max     891.000000    1.000000    3.000000   80.000000    8.000000   \n",
       "\n",
       "            Parch        Fare  \n",
       "count  891.000000  891.000000  \n",
       "mean     0.381594   32.204208  \n",
       "std      0.806057   49.693429  \n",
       "min      0.000000    0.000000  \n",
       "25%      0.000000    7.910400  \n",
       "50%      0.000000   14.454200  \n",
       "75%      0.000000   31.000000  \n",
       "max      6.000000  512.329200  "
      ]
     },
     "execution_count": 4,
     "metadata": {},
     "output_type": "execute_result"
    }
   ],
   "source": [
    "titanic.describe()"
   ]
  },
  {
   "cell_type": "code",
   "execution_count": 5,
   "metadata": {},
   "outputs": [
    {
     "data": {
      "text/plain": [
       "PassengerId      0\n",
       "Survived         0\n",
       "Pclass           0\n",
       "Name             0\n",
       "Sex              0\n",
       "Age            177\n",
       "SibSp            0\n",
       "Parch            0\n",
       "Ticket           0\n",
       "Fare             0\n",
       "Cabin          687\n",
       "Embarked         2\n",
       "dtype: int64"
      ]
     },
     "execution_count": 5,
     "metadata": {},
     "output_type": "execute_result"
    }
   ],
   "source": [
    "titanic.isnull().sum()"
   ]
  },
  {
   "cell_type": "code",
   "execution_count": 6,
   "metadata": {},
   "outputs": [
    {
     "data": {
      "text/plain": [
       "<matplotlib.text.Text at 0x110972940>"
      ]
     },
     "execution_count": 6,
     "metadata": {},
     "output_type": "execute_result"
    },
    {
     "data": {
      "image/png": "[encoded data removed]",
      "text/plain": [
       "<matplotlib.figure.Figure at 0x1074429e8>"
      ]
     },
     "metadata": {},
     "output_type": "display_data"
    }
   ],
   "source": [
    "sns.distplot(titanic['Age'][np.isfinite(titanic['Age'])],hist=True, rug=False, color = 'olive', axlabel = 'Fare')\n",
    "plt.xlabel('Age')\n",
    "plt.ylabel('Frequency')\n",
    "plt.title('Distribution of the varaibale Age among passengers',size = 13)"
   ]
  },
  {
   "cell_type": "markdown",
   "metadata": {},
   "source": [
    "The first thigs that I notice is that this data does not contain all the data about the passengers on board the Titanic. In fact, we have in this table 891 passengers while on board the titanic were 1316 passengers and 908 crew members. So, our study will be not exhaustive as if we were in possess of all the information.     \n",
    "But in this histogram, that shows the distributions of the variable Age over passengers, we can notice a shape similar to a normal distribution, and we can suppose to have a valid sample of all the passengers on board the titanic. \n",
    "Secondly we can notice that we have some fields missing, for 177 passengers we do not have information about the age and for 687 we do not know the cabin and finally for 2 passengers we do not have the embarked port. Considered what will be the focus of this study, these missing fields will be not be an issue, they will be not be used. \n",
    "On the other hand, Survived, Sex, Fare, SibSp and Parch, the variables of interests in this study are not missing. \n",
    "Although, there is one thing that catch my attention, and it is the minimum value of Fare (0.00) and the maximum. I will therefor investigate later these values to try answering correctly at my second question."
   ]
  },
  {
   "cell_type": "markdown",
   "metadata": {},
   "source": [
    "I will now perform some modification to the table. \n",
    "I will change the value of Sex transforming it to integer (0=male, and 1=female). \n",
    "I will transform the Embarked value to an integer as well (S=1, Q=2, C=3) respecting the time frame of the embarking.  Untimely I will add a new column called 'Alone'. This will be an integer 0 or 1, calculated over the two columns SibSp and Parch (0=NotAlone, 1=Alone).  \n",
    "To perform all this, I will define 3 function."
   ]
  },
  {
   "cell_type": "code",
   "execution_count": 7,
   "metadata": {
    "collapsed": true
   },
   "outputs": [],
   "source": [
    "def port(x):\n",
    "    if x == 'S':\n",
    "        x =1\n",
    "    elif x == 'Q':\n",
    "        x =2\n",
    "    elif x == 'C':\n",
    "        x =3 \n",
    "    return x \n",
    "\n",
    "def gender(x):\n",
    "    if x == 'male':\n",
    "        x = 0 \n",
    "    elif x == 'female':\n",
    "        x = 1 \n",
    "    return x\n",
    "\n",
    "def alone(x):\n",
    "    if x >= 1:\n",
    "        x = 0\n",
    "    else:\n",
    "        x = 1\n",
    "    return x "
   ]
  },
  {
   "cell_type": "code",
   "execution_count": 8,
   "metadata": {
    "collapsed": true
   },
   "outputs": [],
   "source": [
    "titanic['Embarked']= titanic['Embarked'].apply(port)"
   ]
  },
  {
   "cell_type": "code",
   "execution_count": 9,
   "metadata": {
    "collapsed": true
   },
   "outputs": [],
   "source": [
    "titanic['Sex']= titanic['Sex'].apply(gender)"
   ]
  },
  {
   "cell_type": "code",
   "execution_count": 10,
   "metadata": {
    "collapsed": true
   },
   "outputs": [],
   "source": [
    "titanic['Alone'] = titanic['SibSp'] + titanic['Parch']\n",
    "titanic['Alone'] = titanic['Alone'].apply(alone)"
   ]
  },
  {
   "cell_type": "code",
   "execution_count": 11,
   "metadata": {},
   "outputs": [
    {
     "data": {
      "text/html": [
       "<div>\n",
       "<table border=\"1\" class=\"dataframe\">\n",
       "  <thead>\n",
       "    <tr style=\"text-align: right;\">\n",
       "      <th></th>\n",
       "      <th>PassengerId</th>\n",
       "      <th>Survived</th>\n",
       "      <th>Pclass</th>\n",
       "      <th>Name</th>\n",
       "      <th>Sex</th>\n",
       "      <th>Age</th>\n",
       "      <th>SibSp</th>\n",
       "      <th>Parch</th>\n",
       "      <th>Ticket</th>\n",
       "      <th>Fare</th>\n",
       "      <th>Cabin</th>\n",
       "      <th>Embarked</th>\n",
       "      <th>Alone</th>\n",
       "    </tr>\n",
       "  </thead>\n",
       "  <tbody>\n",
       "    <tr>\n",
       "      <th>0</th>\n",
       "      <td>1</td>\n",
       "      <td>0</td>\n",
       "      <td>3</td>\n",
       "      <td>Braund, Mr. Owen Harris</td>\n",
       "      <td>0</td>\n",
       "      <td>22.0</td>\n",
       "      <td>1</td>\n",
       "      <td>0</td>\n",
       "      <td>A/5 21171</td>\n",
       "      <td>7.2500</td>\n",
       "      <td>NaN</td>\n",
       "      <td>1.0</td>\n",
       "      <td>0</td>\n",
       "    </tr>\n",
       "    <tr>\n",
       "      <th>1</th>\n",
       "      <td>2</td>\n",
       "      <td>1</td>\n",
       "      <td>1</td>\n",
       "      <td>Cumings, Mrs. John Bradley (Florence Briggs Th...</td>\n",
       "      <td>1</td>\n",
       "      <td>38.0</td>\n",
       "      <td>1</td>\n",
       "      <td>0</td>\n",
       "      <td>PC 17599</td>\n",
       "      <td>71.2833</td>\n",
       "      <td>C85</td>\n",
       "      <td>3.0</td>\n",
       "      <td>0</td>\n",
       "    </tr>\n",
       "    <tr>\n",
       "      <th>2</th>\n",
       "      <td>3</td>\n",
       "      <td>1</td>\n",
       "      <td>3</td>\n",
       "      <td>Heikkinen, Miss. Laina</td>\n",
       "      <td>1</td>\n",
       "      <td>26.0</td>\n",
       "      <td>0</td>\n",
       "      <td>0</td>\n",
       "      <td>STON/O2. 3101282</td>\n",
       "      <td>7.9250</td>\n",
       "      <td>NaN</td>\n",
       "      <td>1.0</td>\n",
       "      <td>1</td>\n",
       "    </tr>\n",
       "    <tr>\n",
       "      <th>3</th>\n",
       "      <td>4</td>\n",
       "      <td>1</td>\n",
       "      <td>1</td>\n",
       "      <td>Futrelle, Mrs. Jacques Heath (Lily May Peel)</td>\n",
       "      <td>1</td>\n",
       "      <td>35.0</td>\n",
       "      <td>1</td>\n",
       "      <td>0</td>\n",
       "      <td>113803</td>\n",
       "      <td>53.1000</td>\n",
       "      <td>C123</td>\n",
       "      <td>1.0</td>\n",
       "      <td>0</td>\n",
       "    </tr>\n",
       "    <tr>\n",
       "      <th>4</th>\n",
       "      <td>5</td>\n",
       "      <td>0</td>\n",
       "      <td>3</td>\n",
       "      <td>Allen, Mr. William Henry</td>\n",
       "      <td>0</td>\n",
       "      <td>35.0</td>\n",
       "      <td>0</td>\n",
       "      <td>0</td>\n",
       "      <td>373450</td>\n",
       "      <td>8.0500</td>\n",
       "      <td>NaN</td>\n",
       "      <td>1.0</td>\n",
       "      <td>1</td>\n",
       "    </tr>\n",
       "  </tbody>\n",
       "</table>\n",
       "</div>"
      ],
      "text/plain": [
       "   PassengerId  Survived  Pclass  \\\n",
       "0            1         0       3   \n",
       "1            2         1       1   \n",
       "2            3         1       3   \n",
       "3            4         1       1   \n",
       "4            5         0       3   \n",
       "\n",
       "                                                Name  Sex   Age  SibSp  Parch  \\\n",
       "0                            Braund, Mr. Owen Harris    0  22.0      1      0   \n",
       "1  Cumings, Mrs. John Bradley (Florence Briggs Th...    1  38.0      1      0   \n",
       "2                             Heikkinen, Miss. Laina    1  26.0      0      0   \n",
       "3       Futrelle, Mrs. Jacques Heath (Lily May Peel)    1  35.0      1      0   \n",
       "4                           Allen, Mr. William Henry    0  35.0      0      0   \n",
       "\n",
       "             Ticket     Fare Cabin  Embarked  Alone  \n",
       "0         A/5 21171   7.2500   NaN       1.0      0  \n",
       "1          PC 17599  71.2833   C85       3.0      0  \n",
       "2  STON/O2. 3101282   7.9250   NaN       1.0      1  \n",
       "3            113803  53.1000  C123       1.0      0  \n",
       "4            373450   8.0500   NaN       1.0      1  "
      ]
     },
     "execution_count": 11,
     "metadata": {},
     "output_type": "execute_result"
    }
   ],
   "source": [
    "titanic.head()"
   ]
  },
  {
   "cell_type": "markdown",
   "metadata": {},
   "source": [
    "## Analysis of Alone variable \n",
    "We have now more possibilities to work with the data. \n",
    "I'm gonna plot now the distribution of passengers that were alone or not. "
   ]
  },
  {
   "cell_type": "code",
   "execution_count": 12,
   "metadata": {},
   "outputs": [
    {
     "data": {
      "text/plain": [
       "<matplotlib.text.Text at 0x113d52358>"
      ]
     },
     "execution_count": 12,
     "metadata": {},
     "output_type": "execute_result"
    },
    {
     "data": {
      "image/png": "[encoded data removed]",
      "text/plain": [
       "<matplotlib.figure.Figure at 0x113de0160>"
      ]
     },
     "metadata": {},
     "output_type": "display_data"
    }
   ],
   "source": [
    "sns.countplot(x = 'Alone', data = titanic,palette=['Olive','DarkOrange'])\n",
    "plt.xlabel('Not Alone                                         Alone')\n",
    "plt.title('Count of passengers on board, travelling Not Alone and Alone ',size = 13)"
   ]
  },
  {
   "cell_type": "markdown",
   "metadata": {},
   "source": [
    "We can see from the plot above that in our data we have more passengers traveling alone then passengers not. \n",
    "I will now group by the Alone variable and see if there is a significant difference in the Survived mean among these passengers."
   ]
  },
  {
   "cell_type": "code",
   "execution_count": 13,
   "metadata": {},
   "outputs": [
    {
     "data": {
      "text/plain": [
       "Alone       \n",
       "0      count    354.000000\n",
       "       mean       0.505650\n",
       "       std        0.500676\n",
       "       min        0.000000\n",
       "       25%        0.000000\n",
       "       50%        1.000000\n",
       "       75%        1.000000\n",
       "       max        1.000000\n",
       "1      count    537.000000\n",
       "       mean       0.303538\n",
       "       std        0.460214\n",
       "       min        0.000000\n",
       "       25%        0.000000\n",
       "       50%        0.000000\n",
       "       75%        1.000000\n",
       "       max        1.000000\n",
       "Name: Survived, dtype: float64"
      ]
     },
     "execution_count": 13,
     "metadata": {},
     "output_type": "execute_result"
    }
   ],
   "source": [
    "titanic.groupby('Alone')['Survived'].describe()"
   ]
  },
  {
   "cell_type": "markdown",
   "metadata": {},
   "source": [
    "In order to evaluate the independence of these two categorical variables, I will make use of the Chi-Square Test for Independence. The Null hypothesis is that the two variables, Alone and Survived, are independent. The alternative hypothesis is that knowing the value of the first could help predict the second. \n",
    "- H0: Alone and Survived are independent. \n",
    "- H1: Alone A and Survived are not independent.\n",
    "\n",
    "For this test we are going to set a significant level of 0.05 (α).                   \n",
    "\n",
    "To do so, I will create a function that could be used later on."
   ]
  },
  {
   "cell_type": "code",
   "execution_count": 14,
   "metadata": {
    "collapsed": true
   },
   "outputs": [],
   "source": [
    "def chitest2x2(x,y):\n",
    "    a = x[x==0].count()\n",
    "    b = x[x==1].count()\n",
    "    c = y[y==0].count()\n",
    "    d = y[y==1].count()\n",
    "    Chi = (((a*d-b*c)**2)*(a+b+c+d))/((a+b)*(c+d)*(b+d)*(a+c))\n",
    "    print ('The Chi Square score is:', Chi )"
   ]
  },
  {
   "cell_type": "markdown",
   "metadata": {},
   "source": [
    "I will create 2 series for passengers on board , Alone and not Alone, with only the survived variable. "
   ]
  },
  {
   "cell_type": "code",
   "execution_count": 15,
   "metadata": {
    "collapsed": true
   },
   "outputs": [],
   "source": [
    "not_alone = titanic['Survived'][titanic['Alone']==0]\n",
    "alone = titanic['Survived'][titanic['Alone']==1]"
   ]
  },
  {
   "cell_type": "code",
   "execution_count": 16,
   "metadata": {},
   "outputs": [
    {
     "name": "stdout",
     "output_type": "stream",
     "text": [
      "The Chi Square score is: 36.8501308475\n"
     ]
    }
   ],
   "source": [
    "chitest2x2(not_alone,alone)"
   ]
  },
  {
   "cell_type": "markdown",
   "metadata": {},
   "source": [
    "In this case the P-value is the probability that a chi-square statistic having 1 degrees of freedom is more extreme than 36.85. In this case, we have P(Χ²>36.85) ≤ 0.0001. Since this value is less than the significant level (0.05), we can reject the null hypothesis, and we can suppose that there is a relationship between the two variable."
   ]
  },
  {
   "cell_type": "markdown",
   "metadata": {},
   "source": [
    "To continue in this direction, I will now divide the dataset using the variable Sex, and look if is there a difference in surviving rate when passengers where alone or not."
   ]
  },
  {
   "cell_type": "code",
   "execution_count": 17,
   "metadata": {
    "collapsed": true
   },
   "outputs": [],
   "source": [
    "sex_notalone = titanic[['Survived','Sex']][titanic['Alone']==0]\n",
    "female_notalone = sex_notalone[sex_notalone['Sex']==1]\n",
    "male_notalone = sex_notalone[sex_notalone['Sex']==0]\n",
    "sex_alone = titanic[['Survived','Sex']][titanic['Alone']==1]\n",
    "female_alone = sex_alone[sex_alone['Sex']==1]\n",
    "male_alone = sex_alone[sex_alone['Sex']==0]"
   ]
  },
  {
   "cell_type": "markdown",
   "metadata": {},
   "source": [
    "I will now plot the for different group to understand better how many passengers were alone or not, by their gender."
   ]
  },
  {
   "cell_type": "code",
   "execution_count": 18,
   "metadata": {},
   "outputs": [
    {
     "data": {
      "text/plain": [
       "<matplotlib.text.Text at 0x1109dea20>"
      ]
     },
     "execution_count": 18,
     "metadata": {},
     "output_type": "execute_result"
    },
    {
     "data": {
      "image/png": "[encoded data removed]",
      "text/plain": [
       "<matplotlib.figure.Figure at 0x1109de748>"
      ]
     },
     "metadata": {},
     "output_type": "display_data"
    }
   ],
   "source": [
    "g = sns.factorplot(\"Survived\", row=\"Alone\", col=\"Sex\", margin_titles=True,data=titanic,kind=\"count\",palette=['firebrick','cornflowerblue'])\n",
    "plt.subplots_adjust(top=0.9)\n",
    "g.fig.suptitle('Count of passengers on board, travelling Not Alone and Alone and by Sex, Survived or not')"
   ]
  },
  {
   "cell_type": "markdown",
   "metadata": {},
   "source": [
    "First in the above plot we can see the difference among gender, eventually we can notice that the data show an opposite direction when we look at survived passengers.                    \n",
    "The following data will help better understand this."
   ]
  },
  {
   "cell_type": "code",
   "execution_count": 19,
   "metadata": {},
   "outputs": [
    {
     "name": "stdout",
     "output_type": "stream",
     "text": [
      "In our Data set : \n",
      "There were 166 male not alone on board, only 45 survived\n",
      "There were 411 male alone on board, only 64 survived\n",
      "There were 188 female not alone on board, only 134 survived\n",
      "There were 126 female alone on board, only 99 survived\n"
     ]
    }
   ],
   "source": [
    "print ('In our Data set : ')\n",
    "print ('There were', male_notalone['Survived'].count(),'male not alone on board, only',\"%.0f\"%(male_notalone['Survived'][male_notalone['Survived']==1].count())\n",
    "       ,'survived')\n",
    "print ('There were', male_alone['Survived'].count(),'male alone on board, only',\"%.0f\"%(male_alone['Survived'][male_alone['Survived']==1].count())\n",
    "       ,'survived')\n",
    "print ('There were', female_notalone['Survived'].count(),'female not alone on board, only',\"%.0f\"%(female_notalone['Survived'][female_notalone['Survived']==1].count())\n",
    "       ,'survived')\n",
    "print ('There were', female_alone['Survived'].count(),'female alone on board, only',\"%.0f\"%(female_alone['Survived'][female_alone['Survived']==1].count())\n",
    "       ,'survived')"
   ]
  },
  {
   "cell_type": "markdown",
   "metadata": {},
   "source": [
    "Looking at the data we can notice a difference between the two means, alone or not alone, but the result is opposite by sex.                               \n",
    "The mean of survived women traveling alone is 0.786 and not alone is 0.713 while for survived men alone is 0.156 and not alone is 0.271. "
   ]
  },
  {
   "cell_type": "markdown",
   "metadata": {},
   "source": [
    "In order to evaluate the independence of these two categorical variables, I will make use of the Chi-Square Test for Independence. I will perform this test using the function defined before, and in this case for female and male separately.         \n",
    "The Null hypothesis is that the two variables, Alone and Survived, are independent. The alternative hypothesis is that knowing the value of the first could help predict the second. \n",
    "H0: Alone and Survived are independent. \n",
    "H1: Alone A and Survived are not independent.\n",
    "For this test we are going to set a significant level of 0.05 (α)"
   ]
  },
  {
   "cell_type": "code",
   "execution_count": 20,
   "metadata": {},
   "outputs": [
    {
     "name": "stdout",
     "output_type": "stream",
     "text": [
      "The Chi Square score is: 2.09723834744\n",
      "The Chi Square score is: 10.2710153203\n"
     ]
    }
   ],
   "source": [
    "chitest2x2(female_alone['Survived'],female_notalone['Survived'])\n",
    "chitest2x2(male_alone['Survived'],male_notalone['Survived'])"
   ]
  },
  {
   "cell_type": "markdown",
   "metadata": {
    "collapsed": true
   },
   "source": [
    " "
   ]
  },
  {
   "cell_type": "markdown",
   "metadata": {},
   "source": [
    "In this case, we have different results: \n",
    "\n",
    "For female on board the titanic we have a Chi-Square score of 2.10 with a degree of freedom of 1. So our P-Value is P(Χ²>2.10) = 0.147569, but since this value is more than the significant level (0.05), we cannot reject the null hypothesis, and we can say that the two variables, Alone and Survived, for female on board the Titanic are independent. \n",
    "\n",
    "While for male on board the Titanic, we have a Chi-Square score of 10.27 with a degree of freedom of 1. In this case the P-Value is P(Χ²>10.27) = 0.001351 that is less than our significant level of 0.05. We can say that for Male, in this case, the two variables are not independent and we can reject the null hypothesis."
   ]
  },
  {
   "cell_type": "markdown",
   "metadata": {},
   "source": [
    "From this result, we could assume that the difference for survived variable sex is an important factor, in fact it seems so. While in general survived passengers has a mean of 0.384, the mean for survived man is 0.189 and female is 0.742, while there was much more man then women. (see cells below)     "
   ]
  },
  {
   "cell_type": "code",
   "execution_count": 21,
   "metadata": {},
   "outputs": [
    {
     "data": {
      "text/plain": [
       "Sex       \n",
       "0    count    577.000000\n",
       "     mean       0.188908\n",
       "     std        0.391775\n",
       "     min        0.000000\n",
       "     25%        0.000000\n",
       "     50%        0.000000\n",
       "     75%        0.000000\n",
       "     max        1.000000\n",
       "1    count    314.000000\n",
       "     mean       0.742038\n",
       "     std        0.438211\n",
       "     min        0.000000\n",
       "     25%        0.000000\n",
       "     50%        1.000000\n",
       "     75%        1.000000\n",
       "     max        1.000000\n",
       "Name: Survived, dtype: float64"
      ]
     },
     "execution_count": 21,
     "metadata": {},
     "output_type": "execute_result"
    }
   ],
   "source": [
    "titanic.groupby('Sex')['Survived'].describe()"
   ]
  },
  {
   "cell_type": "code",
   "execution_count": 22,
   "metadata": {},
   "outputs": [
    {
     "data": {
      "text/plain": [
       "<matplotlib.text.Text at 0x1144c4518>"
      ]
     },
     "execution_count": 22,
     "metadata": {},
     "output_type": "execute_result"
    },
    {
     "data": {
      "image/png": "[encoded data removed]",
      "text/plain": [
       "<matplotlib.figure.Figure at 0x113d31908>"
      ]
     },
     "metadata": {},
     "output_type": "display_data"
    }
   ],
   "source": [
    "sns.countplot(x = 'Sex', data = titanic, palette=['dodgerblue','coral'])\n",
    "plt.xlabel('Male                                             Female')\n",
    "plt.title('Paggengers count by Sex',size = 13)"
   ]
  },
  {
   "cell_type": "code",
   "execution_count": 23,
   "metadata": {},
   "outputs": [
    {
     "data": {
      "text/plain": [
       "<matplotlib.text.Text at 0x11450b2b0>"
      ]
     },
     "execution_count": 23,
     "metadata": {},
     "output_type": "execute_result"
    },
    {
     "data": {
      "image/png": "[encoded data removed]",
      "text/plain": [
       "<matplotlib.figure.Figure at 0x11450b198>"
      ]
     },
     "metadata": {},
     "output_type": "display_data"
    }
   ],
   "source": [
    "g = sns.factorplot(\"Survived\", col=\"Sex\", margin_titles=True,data=titanic,kind=\"count\",palette=['firebrick','cornflowerblue'])\n",
    "plt.subplots_adjust(top=0.88)\n",
    "g.fig.suptitle('Passengers count, survived or not, by Sex', size = 13)"
   ]
  },
  {
   "cell_type": "markdown",
   "metadata": {},
   "source": [
    "We can notice, thanks to the plot above, that there is an important difference in surviving between male and female. Among 577 male pasengers only 18.9 % survived, while among 314 female 74.2% survived. \n",
    "So, gender it can be considered an important factor, I will perform a chi-square Test of independence over the variables Survived as Sex at level 0.01. \n",
    "The Null hypothesis is that the two variables are independent, the alternative is that they are not independent."
   ]
  },
  {
   "cell_type": "code",
   "execution_count": 24,
   "metadata": {},
   "outputs": [
    {
     "name": "stdout",
     "output_type": "stream",
     "text": [
      "The Chi Square score is: 263.050574071\n"
     ]
    }
   ],
   "source": [
    "chitest2x2(titanic['Survived'][titanic['Sex']==0],titanic['Survived'][titanic['Sex']==1])"
   ]
  },
  {
   "cell_type": "markdown",
   "metadata": {},
   "source": [
    "With a Chi-Square Score of 263.05, we have a p-value is P(Χ²>263.05) ≤ 0.0001. This value is less than the significant level of 0.01 and this result allows us to do reject the null hypothesis and say that the two variables are not independent. So, we conclude that there is a relationship between, the variables Sex and Survived without considering the Alone variable analysed before."
   ]
  },
  {
   "cell_type": "markdown",
   "metadata": {},
   "source": [
    "## Alalysis of Fare variable\n",
    "As said at the beginning of our study we have notice that the minimum value for fare is 0, we will go now look at this value more in detail. "
   ]
  },
  {
   "cell_type": "code",
   "execution_count": 25,
   "metadata": {
    "scrolled": true
   },
   "outputs": [
    {
     "data": {
      "text/html": [
       "<div>\n",
       "<table border=\"1\" class=\"dataframe\">\n",
       "  <thead>\n",
       "    <tr style=\"text-align: right;\">\n",
       "      <th></th>\n",
       "      <th>PassengerId</th>\n",
       "      <th>Survived</th>\n",
       "      <th>Pclass</th>\n",
       "      <th>Name</th>\n",
       "      <th>Sex</th>\n",
       "      <th>Age</th>\n",
       "      <th>SibSp</th>\n",
       "      <th>Parch</th>\n",
       "      <th>Ticket</th>\n",
       "      <th>Fare</th>\n",
       "      <th>Cabin</th>\n",
       "      <th>Embarked</th>\n",
       "      <th>Alone</th>\n",
       "    </tr>\n",
       "  </thead>\n",
       "  <tbody>\n",
       "    <tr>\n",
       "      <th>179</th>\n",
       "      <td>180</td>\n",
       "      <td>0</td>\n",
       "      <td>3</td>\n",
       "      <td>Leonard, Mr. Lionel</td>\n",
       "      <td>0</td>\n",
       "      <td>36.0</td>\n",
       "      <td>0</td>\n",
       "      <td>0</td>\n",
       "      <td>LINE</td>\n",
       "      <td>0.0</td>\n",
       "      <td>NaN</td>\n",
       "      <td>1.0</td>\n",
       "      <td>1</td>\n",
       "    </tr>\n",
       "    <tr>\n",
       "      <th>263</th>\n",
       "      <td>264</td>\n",
       "      <td>0</td>\n",
       "      <td>1</td>\n",
       "      <td>Harrison, Mr. William</td>\n",
       "      <td>0</td>\n",
       "      <td>40.0</td>\n",
       "      <td>0</td>\n",
       "      <td>0</td>\n",
       "      <td>112059</td>\n",
       "      <td>0.0</td>\n",
       "      <td>B94</td>\n",
       "      <td>1.0</td>\n",
       "      <td>1</td>\n",
       "    </tr>\n",
       "    <tr>\n",
       "      <th>271</th>\n",
       "      <td>272</td>\n",
       "      <td>1</td>\n",
       "      <td>3</td>\n",
       "      <td>Tornquist, Mr. William Henry</td>\n",
       "      <td>0</td>\n",
       "      <td>25.0</td>\n",
       "      <td>0</td>\n",
       "      <td>0</td>\n",
       "      <td>LINE</td>\n",
       "      <td>0.0</td>\n",
       "      <td>NaN</td>\n",
       "      <td>1.0</td>\n",
       "      <td>1</td>\n",
       "    </tr>\n",
       "    <tr>\n",
       "      <th>277</th>\n",
       "      <td>278</td>\n",
       "      <td>0</td>\n",
       "      <td>2</td>\n",
       "      <td>Parkes, Mr. Francis \"Frank\"</td>\n",
       "      <td>0</td>\n",
       "      <td>NaN</td>\n",
       "      <td>0</td>\n",
       "      <td>0</td>\n",
       "      <td>239853</td>\n",
       "      <td>0.0</td>\n",
       "      <td>NaN</td>\n",
       "      <td>1.0</td>\n",
       "      <td>1</td>\n",
       "    </tr>\n",
       "    <tr>\n",
       "      <th>302</th>\n",
       "      <td>303</td>\n",
       "      <td>0</td>\n",
       "      <td>3</td>\n",
       "      <td>Johnson, Mr. William Cahoone Jr</td>\n",
       "      <td>0</td>\n",
       "      <td>19.0</td>\n",
       "      <td>0</td>\n",
       "      <td>0</td>\n",
       "      <td>LINE</td>\n",
       "      <td>0.0</td>\n",
       "      <td>NaN</td>\n",
       "      <td>1.0</td>\n",
       "      <td>1</td>\n",
       "    </tr>\n",
       "    <tr>\n",
       "      <th>413</th>\n",
       "      <td>414</td>\n",
       "      <td>0</td>\n",
       "      <td>2</td>\n",
       "      <td>Cunningham, Mr. Alfred Fleming</td>\n",
       "      <td>0</td>\n",
       "      <td>NaN</td>\n",
       "      <td>0</td>\n",
       "      <td>0</td>\n",
       "      <td>239853</td>\n",
       "      <td>0.0</td>\n",
       "      <td>NaN</td>\n",
       "      <td>1.0</td>\n",
       "      <td>1</td>\n",
       "    </tr>\n",
       "    <tr>\n",
       "      <th>466</th>\n",
       "      <td>467</td>\n",
       "      <td>0</td>\n",
       "      <td>2</td>\n",
       "      <td>Campbell, Mr. William</td>\n",
       "      <td>0</td>\n",
       "      <td>NaN</td>\n",
       "      <td>0</td>\n",
       "      <td>0</td>\n",
       "      <td>239853</td>\n",
       "      <td>0.0</td>\n",
       "      <td>NaN</td>\n",
       "      <td>1.0</td>\n",
       "      <td>1</td>\n",
       "    </tr>\n",
       "    <tr>\n",
       "      <th>481</th>\n",
       "      <td>482</td>\n",
       "      <td>0</td>\n",
       "      <td>2</td>\n",
       "      <td>Frost, Mr. Anthony Wood \"Archie\"</td>\n",
       "      <td>0</td>\n",
       "      <td>NaN</td>\n",
       "      <td>0</td>\n",
       "      <td>0</td>\n",
       "      <td>239854</td>\n",
       "      <td>0.0</td>\n",
       "      <td>NaN</td>\n",
       "      <td>1.0</td>\n",
       "      <td>1</td>\n",
       "    </tr>\n",
       "    <tr>\n",
       "      <th>597</th>\n",
       "      <td>598</td>\n",
       "      <td>0</td>\n",
       "      <td>3</td>\n",
       "      <td>Johnson, Mr. Alfred</td>\n",
       "      <td>0</td>\n",
       "      <td>49.0</td>\n",
       "      <td>0</td>\n",
       "      <td>0</td>\n",
       "      <td>LINE</td>\n",
       "      <td>0.0</td>\n",
       "      <td>NaN</td>\n",
       "      <td>1.0</td>\n",
       "      <td>1</td>\n",
       "    </tr>\n",
       "    <tr>\n",
       "      <th>633</th>\n",
       "      <td>634</td>\n",
       "      <td>0</td>\n",
       "      <td>1</td>\n",
       "      <td>Parr, Mr. William Henry Marsh</td>\n",
       "      <td>0</td>\n",
       "      <td>NaN</td>\n",
       "      <td>0</td>\n",
       "      <td>0</td>\n",
       "      <td>112052</td>\n",
       "      <td>0.0</td>\n",
       "      <td>NaN</td>\n",
       "      <td>1.0</td>\n",
       "      <td>1</td>\n",
       "    </tr>\n",
       "    <tr>\n",
       "      <th>674</th>\n",
       "      <td>675</td>\n",
       "      <td>0</td>\n",
       "      <td>2</td>\n",
       "      <td>Watson, Mr. Ennis Hastings</td>\n",
       "      <td>0</td>\n",
       "      <td>NaN</td>\n",
       "      <td>0</td>\n",
       "      <td>0</td>\n",
       "      <td>239856</td>\n",
       "      <td>0.0</td>\n",
       "      <td>NaN</td>\n",
       "      <td>1.0</td>\n",
       "      <td>1</td>\n",
       "    </tr>\n",
       "    <tr>\n",
       "      <th>732</th>\n",
       "      <td>733</td>\n",
       "      <td>0</td>\n",
       "      <td>2</td>\n",
       "      <td>Knight, Mr. Robert J</td>\n",
       "      <td>0</td>\n",
       "      <td>NaN</td>\n",
       "      <td>0</td>\n",
       "      <td>0</td>\n",
       "      <td>239855</td>\n",
       "      <td>0.0</td>\n",
       "      <td>NaN</td>\n",
       "      <td>1.0</td>\n",
       "      <td>1</td>\n",
       "    </tr>\n",
       "    <tr>\n",
       "      <th>806</th>\n",
       "      <td>807</td>\n",
       "      <td>0</td>\n",
       "      <td>1</td>\n",
       "      <td>Andrews, Mr. Thomas Jr</td>\n",
       "      <td>0</td>\n",
       "      <td>39.0</td>\n",
       "      <td>0</td>\n",
       "      <td>0</td>\n",
       "      <td>112050</td>\n",
       "      <td>0.0</td>\n",
       "      <td>A36</td>\n",
       "      <td>1.0</td>\n",
       "      <td>1</td>\n",
       "    </tr>\n",
       "    <tr>\n",
       "      <th>815</th>\n",
       "      <td>816</td>\n",
       "      <td>0</td>\n",
       "      <td>1</td>\n",
       "      <td>Fry, Mr. Richard</td>\n",
       "      <td>0</td>\n",
       "      <td>NaN</td>\n",
       "      <td>0</td>\n",
       "      <td>0</td>\n",
       "      <td>112058</td>\n",
       "      <td>0.0</td>\n",
       "      <td>B102</td>\n",
       "      <td>1.0</td>\n",
       "      <td>1</td>\n",
       "    </tr>\n",
       "    <tr>\n",
       "      <th>822</th>\n",
       "      <td>823</td>\n",
       "      <td>0</td>\n",
       "      <td>1</td>\n",
       "      <td>Reuchlin, Jonkheer. John George</td>\n",
       "      <td>0</td>\n",
       "      <td>38.0</td>\n",
       "      <td>0</td>\n",
       "      <td>0</td>\n",
       "      <td>19972</td>\n",
       "      <td>0.0</td>\n",
       "      <td>NaN</td>\n",
       "      <td>1.0</td>\n",
       "      <td>1</td>\n",
       "    </tr>\n",
       "  </tbody>\n",
       "</table>\n",
       "</div>"
      ],
      "text/plain": [
       "     PassengerId  Survived  Pclass                              Name  Sex  \\\n",
       "179          180         0       3               Leonard, Mr. Lionel    0   \n",
       "263          264         0       1             Harrison, Mr. William    0   \n",
       "271          272         1       3      Tornquist, Mr. William Henry    0   \n",
       "277          278         0       2       Parkes, Mr. Francis \"Frank\"    0   \n",
       "302          303         0       3   Johnson, Mr. William Cahoone Jr    0   \n",
       "413          414         0       2    Cunningham, Mr. Alfred Fleming    0   \n",
       "466          467         0       2             Campbell, Mr. William    0   \n",
       "481          482         0       2  Frost, Mr. Anthony Wood \"Archie\"    0   \n",
       "597          598         0       3               Johnson, Mr. Alfred    0   \n",
       "633          634         0       1     Parr, Mr. William Henry Marsh    0   \n",
       "674          675         0       2        Watson, Mr. Ennis Hastings    0   \n",
       "732          733         0       2              Knight, Mr. Robert J    0   \n",
       "806          807         0       1            Andrews, Mr. Thomas Jr    0   \n",
       "815          816         0       1                  Fry, Mr. Richard    0   \n",
       "822          823         0       1   Reuchlin, Jonkheer. John George    0   \n",
       "\n",
       "      Age  SibSp  Parch  Ticket  Fare Cabin  Embarked  Alone  \n",
       "179  36.0      0      0    LINE   0.0   NaN       1.0      1  \n",
       "263  40.0      0      0  112059   0.0   B94       1.0      1  \n",
       "271  25.0      0      0    LINE   0.0   NaN       1.0      1  \n",
       "277   NaN      0      0  239853   0.0   NaN       1.0      1  \n",
       "302  19.0      0      0    LINE   0.0   NaN       1.0      1  \n",
       "413   NaN      0      0  239853   0.0   NaN       1.0      1  \n",
       "466   NaN      0      0  239853   0.0   NaN       1.0      1  \n",
       "481   NaN      0      0  239854   0.0   NaN       1.0      1  \n",
       "597  49.0      0      0    LINE   0.0   NaN       1.0      1  \n",
       "633   NaN      0      0  112052   0.0   NaN       1.0      1  \n",
       "674   NaN      0      0  239856   0.0   NaN       1.0      1  \n",
       "732   NaN      0      0  239855   0.0   NaN       1.0      1  \n",
       "806  39.0      0      0  112050   0.0   A36       1.0      1  \n",
       "815   NaN      0      0  112058   0.0  B102       1.0      1  \n",
       "822  38.0      0      0   19972   0.0   NaN       1.0      1  "
      ]
     },
     "execution_count": 25,
     "metadata": {},
     "output_type": "execute_result"
    }
   ],
   "source": [
    "titanic[titanic['Fare']==0]"
   ]
  },
  {
   "cell_type": "markdown",
   "metadata": {},
   "source": [
    "We have found 15 passengers where the fare is recorded 0. This could be possible for a prize for example or a gift, but it doesn't seem always the case. 4 passengers have bought 'LINE' ticket, and they were American line employees according to some research, they should have paid 7 pound each for the ticket. 8 passengers are members of the titanic guarantee group and they win the trip over 3000 employees that worked on the titanic. \n",
    "Mr Jonkheer Johan George Reuchlin traveled for free thanks to his position with the Holland America Line. \n",
    "Fry, Mr. Richard and Harrison, Mr. William were traveling with Mr Joseph Bruce Ismay as his vallet and his secretary. \n",
    "Although this sample is well redistributed over classes, just 1 over 15 survived the accident, and we will try to remove these passengers to avoid disturbance in the next study.\n",
    "Another interesting value of Fare is the maximum, that we will now check before trying to answer to our question."
   ]
  },
  {
   "cell_type": "code",
   "execution_count": 26,
   "metadata": {},
   "outputs": [
    {
     "data": {
      "text/plain": [
       "512.32920000000001"
      ]
     },
     "execution_count": 26,
     "metadata": {},
     "output_type": "execute_result"
    }
   ],
   "source": [
    "titanic['Fare'].max()"
   ]
  },
  {
   "cell_type": "markdown",
   "metadata": {},
   "source": [
    "In the describe table we saw that 75% of the passenger paid less then 31 pound, this 512 could mean that there are some extra high values over fare."
   ]
  },
  {
   "cell_type": "code",
   "execution_count": 27,
   "metadata": {},
   "outputs": [
    {
     "data": {
      "text/plain": [
       "<matplotlib.text.Text at 0x1147b02e8>"
      ]
     },
     "execution_count": 27,
     "metadata": {},
     "output_type": "execute_result"
    },
    {
     "data": {
      "image/png": "[encoded data removed]",
      "text/plain": [
       "<matplotlib.figure.Figure at 0x114306ac8>"
      ]
     },
     "metadata": {},
     "output_type": "display_data"
    }
   ],
   "source": [
    "sns.distplot(titanic['Fare'],hist=True, rug=False, bins = 35, color = 'steelblue', axlabel = 'Fare')\n",
    "plt.xlabel('Fare')\n",
    "plt.ylabel('Frequency')\n",
    "plt.title('Distribution of the varaibale Fare among passengers',size = 13)"
   ]
  },
  {
   "cell_type": "markdown",
   "metadata": {},
   "source": [
    "We can see in the histogram that there are values up to 300 and then nothing until the 500. We will now see them in details.  "
   ]
  },
  {
   "cell_type": "code",
   "execution_count": 28,
   "metadata": {},
   "outputs": [
    {
     "data": {
      "text/html": [
       "<div>\n",
       "<table border=\"1\" class=\"dataframe\">\n",
       "  <thead>\n",
       "    <tr style=\"text-align: right;\">\n",
       "      <th></th>\n",
       "      <th>PassengerId</th>\n",
       "      <th>Survived</th>\n",
       "      <th>Pclass</th>\n",
       "      <th>Name</th>\n",
       "      <th>Sex</th>\n",
       "      <th>Age</th>\n",
       "      <th>SibSp</th>\n",
       "      <th>Parch</th>\n",
       "      <th>Ticket</th>\n",
       "      <th>Fare</th>\n",
       "      <th>Cabin</th>\n",
       "      <th>Embarked</th>\n",
       "      <th>Alone</th>\n",
       "    </tr>\n",
       "  </thead>\n",
       "  <tbody>\n",
       "    <tr>\n",
       "      <th>258</th>\n",
       "      <td>259</td>\n",
       "      <td>1</td>\n",
       "      <td>1</td>\n",
       "      <td>Ward, Miss. Anna</td>\n",
       "      <td>1</td>\n",
       "      <td>35.0</td>\n",
       "      <td>0</td>\n",
       "      <td>0</td>\n",
       "      <td>PC 17755</td>\n",
       "      <td>512.3292</td>\n",
       "      <td>NaN</td>\n",
       "      <td>3.0</td>\n",
       "      <td>1</td>\n",
       "    </tr>\n",
       "    <tr>\n",
       "      <th>679</th>\n",
       "      <td>680</td>\n",
       "      <td>1</td>\n",
       "      <td>1</td>\n",
       "      <td>Cardeza, Mr. Thomas Drake Martinez</td>\n",
       "      <td>0</td>\n",
       "      <td>36.0</td>\n",
       "      <td>0</td>\n",
       "      <td>1</td>\n",
       "      <td>PC 17755</td>\n",
       "      <td>512.3292</td>\n",
       "      <td>B51 B53 B55</td>\n",
       "      <td>3.0</td>\n",
       "      <td>0</td>\n",
       "    </tr>\n",
       "    <tr>\n",
       "      <th>737</th>\n",
       "      <td>738</td>\n",
       "      <td>1</td>\n",
       "      <td>1</td>\n",
       "      <td>Lesurer, Mr. Gustave J</td>\n",
       "      <td>0</td>\n",
       "      <td>35.0</td>\n",
       "      <td>0</td>\n",
       "      <td>0</td>\n",
       "      <td>PC 17755</td>\n",
       "      <td>512.3292</td>\n",
       "      <td>B101</td>\n",
       "      <td>3.0</td>\n",
       "      <td>1</td>\n",
       "    </tr>\n",
       "  </tbody>\n",
       "</table>\n",
       "</div>"
      ],
      "text/plain": [
       "     PassengerId  Survived  Pclass                                Name  Sex  \\\n",
       "258          259         1       1                    Ward, Miss. Anna    1   \n",
       "679          680         1       1  Cardeza, Mr. Thomas Drake Martinez    0   \n",
       "737          738         1       1              Lesurer, Mr. Gustave J    0   \n",
       "\n",
       "      Age  SibSp  Parch    Ticket      Fare        Cabin  Embarked  Alone  \n",
       "258  35.0      0      0  PC 17755  512.3292          NaN       3.0      1  \n",
       "679  36.0      0      1  PC 17755  512.3292  B51 B53 B55       3.0      0  \n",
       "737  35.0      0      0  PC 17755  512.3292         B101       3.0      1  "
      ]
     },
     "execution_count": 28,
     "metadata": {},
     "output_type": "execute_result"
    }
   ],
   "source": [
    "titanic[titanic['Fare']>=300]"
   ]
  },
  {
   "cell_type": "markdown",
   "metadata": {},
   "source": [
    "Although these values seem to be correct, for the quality of the cabins reserved, I am going to try to remove these 3 passengers to permorm our study. \n",
    "I will then plot the histogramss of fare by survived or not. "
   ]
  },
  {
   "cell_type": "code",
   "execution_count": 29,
   "metadata": {
    "collapsed": true
   },
   "outputs": [],
   "source": [
    "tit_high_o = titanic[titanic['Fare']>0]"
   ]
  },
  {
   "cell_type": "code",
   "execution_count": 30,
   "metadata": {
    "collapsed": true
   },
   "outputs": [],
   "source": [
    "tit_fare = tit_high_o[tit_high_o['Fare']<500]"
   ]
  },
  {
   "cell_type": "code",
   "execution_count": 31,
   "metadata": {},
   "outputs": [
    {
     "data": {
      "text/html": [
       "<div>\n",
       "<table border=\"1\" class=\"dataframe\">\n",
       "  <thead>\n",
       "    <tr style=\"text-align: right;\">\n",
       "      <th></th>\n",
       "      <th>Survived</th>\n",
       "      <th>Fare</th>\n",
       "    </tr>\n",
       "  </thead>\n",
       "  <tbody>\n",
       "    <tr>\n",
       "      <th>count</th>\n",
       "      <td>873.000000</td>\n",
       "      <td>873.000000</td>\n",
       "    </tr>\n",
       "    <tr>\n",
       "      <th>mean</th>\n",
       "      <td>0.387171</td>\n",
       "      <td>31.107631</td>\n",
       "    </tr>\n",
       "    <tr>\n",
       "      <th>std</th>\n",
       "      <td>0.487382</td>\n",
       "      <td>41.331513</td>\n",
       "    </tr>\n",
       "    <tr>\n",
       "      <th>min</th>\n",
       "      <td>0.000000</td>\n",
       "      <td>4.012500</td>\n",
       "    </tr>\n",
       "    <tr>\n",
       "      <th>25%</th>\n",
       "      <td>0.000000</td>\n",
       "      <td>7.925000</td>\n",
       "    </tr>\n",
       "    <tr>\n",
       "      <th>50%</th>\n",
       "      <td>0.000000</td>\n",
       "      <td>14.500000</td>\n",
       "    </tr>\n",
       "    <tr>\n",
       "      <th>75%</th>\n",
       "      <td>1.000000</td>\n",
       "      <td>31.275000</td>\n",
       "    </tr>\n",
       "    <tr>\n",
       "      <th>max</th>\n",
       "      <td>1.000000</td>\n",
       "      <td>263.000000</td>\n",
       "    </tr>\n",
       "  </tbody>\n",
       "</table>\n",
       "</div>"
      ],
      "text/plain": [
       "         Survived        Fare\n",
       "count  873.000000  873.000000\n",
       "mean     0.387171   31.107631\n",
       "std      0.487382   41.331513\n",
       "min      0.000000    4.012500\n",
       "25%      0.000000    7.925000\n",
       "50%      0.000000   14.500000\n",
       "75%      1.000000   31.275000\n",
       "max      1.000000  263.000000"
      ]
     },
     "execution_count": 31,
     "metadata": {},
     "output_type": "execute_result"
    }
   ],
   "source": [
    "tit_fare[['Survived','Fare']].describe()"
   ]
  },
  {
   "cell_type": "code",
   "execution_count": 32,
   "metadata": {},
   "outputs": [
    {
     "data": {
      "text/plain": [
       "<matplotlib.text.Text at 0x114976940>"
      ]
     },
     "execution_count": 32,
     "metadata": {},
     "output_type": "execute_result"
    },
    {
     "data": {
      "image/png": "[encoded data removed]",
      "text/plain": [
       "<matplotlib.figure.Figure at 0x1147e4748>"
      ]
     },
     "metadata": {},
     "output_type": "display_data"
    }
   ],
   "source": [
    "sns.distplot(tit_fare[tit_fare['Survived']==1]['Fare'],hist=True, rug=False, bins = 35, color = 'cornflowerblue', axlabel = 'Fare')\n",
    "plt.xlabel('Fare')\n",
    "plt.ylabel('Frequency')\n",
    "plt.title('Distribution of the varaibale Fare among survived passengers',size = 13)"
   ]
  },
  {
   "cell_type": "code",
   "execution_count": 33,
   "metadata": {},
   "outputs": [
    {
     "data": {
      "text/plain": [
       "<matplotlib.text.Text at 0x114b49828>"
      ]
     },
     "execution_count": 33,
     "metadata": {},
     "output_type": "execute_result"
    },
    {
     "data": {
      "image/png": "[encoded data removed]",
      "text/plain": [
       "<matplotlib.figure.Figure at 0x11450fb38>"
      ]
     },
     "metadata": {},
     "output_type": "display_data"
    }
   ],
   "source": [
    "sns.distplot(tit_fare[tit_fare['Survived']==0]['Fare'],hist=True, rug=False, bins = 35, color = 'darkred', axlabel = 'Fare')\n",
    "plt.xlabel('Fare')\n",
    "plt.ylabel('Frequency')\n",
    "plt.title('Distribution of the varaibale Fare among not survived passengers',size = 13)"
   ]
  },
  {
   "cell_type": "code",
   "execution_count": 34,
   "metadata": {},
   "outputs": [
    {
     "data": {
      "text/plain": [
       "<matplotlib.text.Text at 0x114c445f8>"
      ]
     },
     "execution_count": 34,
     "metadata": {},
     "output_type": "execute_result"
    },
    {
     "data": {
      "image/png": "[encoded data removed]",
      "text/plain": [
       "<matplotlib.figure.Figure at 0x114a8fcc0>"
      ]
     },
     "metadata": {},
     "output_type": "display_data"
    }
   ],
   "source": [
    "sns.boxplot(data = tit_fare , y = 'Fare', x = 'Survived',palette=['firebrick','cornflowerblue'])\n",
    "plt.title('Boxplot of the varaible Fare between not survived and survived passengers ')\n",
    "plt.xlabel('0 = Not Survived                                    1= Survived')"
   ]
  },
  {
   "cell_type": "markdown",
   "metadata": {},
   "source": [
    "Although the distributions are similar shaped, we can see more in survived passenger a higher presence in higher fares. I the box plot also is possible to notice this difference between survived and not. \n",
    "we are going use the describe function to watch at the numbers of what just observed. "
   ]
  },
  {
   "cell_type": "code",
   "execution_count": 35,
   "metadata": {},
   "outputs": [
    {
     "data": {
      "text/plain": [
       "Survived       \n",
       "0         count    535.000000\n",
       "          mean      22.696673\n",
       "          std       31.589367\n",
       "          min        4.012500\n",
       "          25%        7.895800\n",
       "          50%       10.500000\n",
       "          75%       26.000000\n",
       "          max      263.000000\n",
       "1         count    338.000000\n",
       "          mean      44.420834\n",
       "          std       50.487368\n",
       "          min        6.975000\n",
       "          25%       12.475000\n",
       "          50%       26.000000\n",
       "          75%       56.929200\n",
       "          max      263.000000\n",
       "Name: Fare, dtype: float64"
      ]
     },
     "execution_count": 35,
     "metadata": {},
     "output_type": "execute_result"
    }
   ],
   "source": [
    "tit_fare.groupby('Survived')['Fare'].describe()"
   ]
  },
  {
   "cell_type": "code",
   "execution_count": 36,
   "metadata": {},
   "outputs": [
    {
     "data": {
      "text/html": [
       "<div>\n",
       "<table border=\"1\" class=\"dataframe\">\n",
       "  <thead>\n",
       "    <tr style=\"text-align: right;\">\n",
       "      <th></th>\n",
       "      <th>Survived</th>\n",
       "      <th>Fare</th>\n",
       "    </tr>\n",
       "  </thead>\n",
       "  <tbody>\n",
       "    <tr>\n",
       "      <th>Survived</th>\n",
       "      <td>1.000000</td>\n",
       "      <td>0.256172</td>\n",
       "    </tr>\n",
       "    <tr>\n",
       "      <th>Fare</th>\n",
       "      <td>0.256172</td>\n",
       "      <td>1.000000</td>\n",
       "    </tr>\n",
       "  </tbody>\n",
       "</table>\n",
       "</div>"
      ],
      "text/plain": [
       "          Survived      Fare\n",
       "Survived  1.000000  0.256172\n",
       "Fare      0.256172  1.000000"
      ]
     },
     "execution_count": 36,
     "metadata": {},
     "output_type": "execute_result"
    }
   ],
   "source": [
    "tit_fare[['Survived','Fare']].corr()"
   ]
  },
  {
   "cell_type": "markdown",
   "metadata": {},
   "source": [
    "We can see that the Pearson's correlation is 0.256, so the 2 variables are slightly positive correlated.      \n",
    "the two means are 22.697 for not survived passengers and 44.421 for survived passengers. We are going to perform a one tail Welch's t-test, because, as we can see from the describing table just above, the two sample are of 535 and 338 respectively, and have quite different standard deviation.                \n",
    "As null hypothesis, we are going to suppose that the two mean of the variable fare are equal and as alternative hypothesis that the mean of fare for survived passenger is higher than the mean of passengers that did not. \n",
    "the significant level will be 0.05. \n",
    "I will in this case a function in scipy package after have divided my dataset by the variable Survived."
   ]
  },
  {
   "cell_type": "code",
   "execution_count": 37,
   "metadata": {
    "collapsed": true
   },
   "outputs": [],
   "source": [
    "tit_fare_surv = tit_fare['Fare'][tit_fare['Survived']==1]\n",
    "tit_fare_not_surv = tit_fare['Fare'][tit_fare['Survived']==0]"
   ]
  },
  {
   "cell_type": "code",
   "execution_count": 38,
   "metadata": {},
   "outputs": [
    {
     "data": {
      "text/plain": [
       "Ttest_indResult(statistic=7.0831705832208023, pvalue=4.7561407741698863e-12)"
      ]
     },
     "execution_count": 38,
     "metadata": {},
     "output_type": "execute_result"
    }
   ],
   "source": [
    "scipy.stats.ttest_ind(tit_fare_surv,tit_fare_not_surv, axis=0, equal_var=False)"
   ]
  },
  {
   "cell_type": "markdown",
   "metadata": {},
   "source": [
    "The value of 7.083 as t-statistic and a p-value that is less than 0.00001, allow us to reject the null hypothesis and state that the two mean are significant different, specifically the mean of the variable Fare for survived people is higher than for not survived."
   ]
  },
  {
   "cell_type": "markdown",
   "metadata": {},
   "source": [
    "## Conclusions\n",
    "\n",
    "The dataset used in this study is just a part of all the data available of the passengers of the Titanic. As said at the beginning of this analysis, we only have used in this study only 891 passengers of 1316 total passengers. So, we couldn't perform our analysis of all the passengers.  There were as saw before some missing values,especailly Age and Cabin,  but the variables of interest of this study were not missing at all.                \n",
    "Said so, we can say that we discovered, in this study, that there is an interesting relation between being alone or not and survived ratio. Although this value that come from Parch and SibSp, do not count other kind of relations, like friendship or professional relation. It could be interesting investigate also with this kind of information. \n",
    "When we looked at Gender separately, we discover that a difference behaviour. First of all, the mean of survived male alone is less than the male not alone survived, while for female these two mean are opposite, so the mean of female alone is higher. Secondly for Male the variable Survived and alone were resulted not independent, while for female we cannot say the same. \n",
    "\n",
    "We can say that we discover also an significant difference between the ticket fare, among passengers that survived and not.                                    \n",
    "However, it could be interesting continuing this investigation, extracting the real ticket fare per person. The fare variable that we have in this data set is the fare that has been payed for the ticket all together, so in some case this fare is the correct value when the passenger was traveling alone, otherwise is the fare for the ticket for multiple persons. We could define a new variable dividing the fare by the numbers of family members (Parch + SibSb), and this could it be the fare for each passenger. But data shows that some tickets were bought for multiple passengers that were not family related, and this would create not correct values of our dataset. With more investigation and analysis this could be avoided, using the variable ticket and to look for duplicate values and use it to find the correct fare for each passenger."
   ]
  },
  {
   "cell_type": "markdown",
   "metadata": {},
   "source": [
    "## Sources\n",
    "\n",
    "http://stackoverflow.com/questions/11869910/pandas-filter-rows-of-dataframe-with-operator-chaining       \n",
    "http://stackoverflow.com/questions/19913659/pandas-conditional-creation-of-a-series-dataframe-column      \n",
    "http://stackoverflow.com/questions/19410042/how-to-make-ipython-notebook-matplotlib-plot-inline         \n",
    "http://stackoverflow.com/questions/33458566/how-to-choose-bins-in-matplotlib-histogram        \n",
    "http://www.titanic-titanic.com                 \n",
    "http://pandas.pydata.org/pandas-docs/stable/generated/pandas.Series.plot.html                \n",
    "http://stattrek.com/chi-square-test/independence.aspx?Tutorial=AP\n",
    "http://math.hws.edu/javamath/ryan/ChiSquare.html\n",
    "http://www.socscistatistics.com/pvalues/chidistribution.aspx\n",
    "https://docs.scipy.org/doc/scipy-0.14.0/reference/generated/scipy.stats.ttest_ind.html\n",
    "https://matplotlib.org/2.0.0/examples/color/named_colors.html\n",
    "http://seaborn.pydata.org/generated/seaborn.factorplot.html\n",
    "http://seaborn.pydata.org/generated/seaborn.FacetGrid.html"
   ]
  }
 ],
 "metadata": {
  "kernelspec": {
   "display_name": "Python 3",
   "language": "python",
   "name": "python3"
  },
  "language_info": {
   "codemirror_mode": {
    "name": "ipython",
    "version": 3
   },
   "file_extension": ".py",
   "mimetype": "text/x-python",
   "name": "python",
   "nbconvert_exporter": "python",
   "pygments_lexer": "ipython3",
   "version": "3.6.1"
  }
 },
 "nbformat": 4,
 "nbformat_minor": 2
}
